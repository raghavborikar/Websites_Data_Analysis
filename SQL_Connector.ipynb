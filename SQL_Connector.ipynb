{
 "cells": [
  {
   "cell_type": "code",
   "execution_count": 7,
   "id": "1505f7d2-04ef-4d8a-94d5-cdeeccc66e25",
   "metadata": {},
   "outputs": [
    {
     "name": "stdout",
     "output_type": "stream",
     "text": [
      "Collecting pymysql\n",
      "  Downloading PyMySQL-1.1.1-py3-none-any.whl.metadata (4.4 kB)\n",
      "Downloading PyMySQL-1.1.1-py3-none-any.whl (44 kB)\n",
      "   ---------------------------------------- 0.0/45.0 kB ? eta -:--:--\n",
      "   --------- ------------------------------ 10.2/45.0 kB ? eta -:--:--\n",
      "   ------------------ --------------------- 20.5/45.0 kB 217.9 kB/s eta 0:00:01\n",
      "   ---------------------------------------- 45.0/45.0 kB 315.7 kB/s eta 0:00:00\n",
      "Installing collected packages: pymysql\n",
      "Successfully installed pymysql-1.1.1\n"
     ]
    }
   ],
   "source": [
    "import pandas as pd\n",
    "!pip install pymysql"
   ]
  },
  {
   "cell_type": "code",
   "execution_count": 11,
   "id": "a861f54a-8321-4ba2-8ab6-518bcc6a15ba",
   "metadata": {},
   "outputs": [],
   "source": [
    "from sqlalchemy import create_engine\n",
    "from urllib.parse import quote_plus\n",
    "\n",
    "username = 'root'\n",
    "password = 'Raghav@IPS000'  \n",
    "encoded_password = quote_plus(password)  \n",
    "\n",
    "host = 'localhost'         \n",
    "port = '3306'               \n",
    "database = 'dsp505'\n",
    "\n",
    "engine = create_engine(f'mysql+pymysql://{username}:{encoded_password}@{host}:{port}/{database}')\n"
   ]
  },
  {
   "cell_type": "code",
   "execution_count": 29,
   "id": "db77b694-5f96-4c37-9527-85ae207726f9",
   "metadata": {},
   "outputs": [],
   "source": [
    "df=pd.read_csv('unique_websites.csv')"
   ]
  },
  {
   "cell_type": "code",
   "execution_count": 23,
   "id": "e5c0cc99-2b4f-4fad-a94a-8644382e206d",
   "metadata": {},
   "outputs": [
    {
     "name": "stdout",
     "output_type": "stream",
     "text": [
      "DataFrame successfully transferred to MySQL!\n"
     ]
    }
   ],
   "source": [
    "table_name = 'unique_websites'\n",
    "df.to_sql(name=table_name, con=engine, if_exists='replace', index=False)\n",
    "\n",
    "print(\"DataFrame successfully transferred to MySQL!\")"
   ]
  },
  {
   "cell_type": "code",
   "execution_count": 25,
   "id": "819b15c7-d852-418f-98bc-4a7d9e779cd3",
   "metadata": {},
   "outputs": [],
   "source": [
    "df=pd.read_csv('websites_data.csv')"
   ]
  },
  {
   "cell_type": "code",
   "execution_count": 27,
   "id": "4da56350-ab0d-490c-81f7-f002ddb50c07",
   "metadata": {},
   "outputs": [
    {
     "name": "stdout",
     "output_type": "stream",
     "text": [
      "DataFrame successfully transferred to MySQL!\n"
     ]
    }
   ],
   "source": [
    "table_name = 'websites_data'\n",
    "df.to_sql(name=table_name, con=engine, if_exists='replace', index=False)\n",
    "\n",
    "print(\"DataFrame successfully transferred to MySQL!\")"
   ]
  }
 ],
 "metadata": {
  "kernelspec": {
   "display_name": "Python 3 (ipykernel)",
   "language": "python",
   "name": "python3"
  },
  "language_info": {
   "codemirror_mode": {
    "name": "ipython",
    "version": 3
   },
   "file_extension": ".py",
   "mimetype": "text/x-python",
   "name": "python",
   "nbconvert_exporter": "python",
   "pygments_lexer": "ipython3",
   "version": "3.12.4"
  }
 },
 "nbformat": 4,
 "nbformat_minor": 5
}
